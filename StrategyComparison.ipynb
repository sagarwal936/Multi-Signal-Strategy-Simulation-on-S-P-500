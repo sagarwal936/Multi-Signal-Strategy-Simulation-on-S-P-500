{
 "cells": [
  {
   "cell_type": "code",
   "execution_count": null,
   "id": "52c5a2bf",
   "metadata": {},
   "outputs": [],
   "source": [
    "from data_generator import PriceLoader\n",
    "from BenchmarkStrategy import BenchmarkStrategy\n",
    "from MovingAverageStrategy import MovingAverageStrategy\n",
    "from RSIStrategy import RSIStrategy\n",
    "from MACDStrategy import MACDStrategy"
   ]
  },
  {
   "cell_type": "code",
   "execution_count": null,
   "id": "8aff8b46",
   "metadata": {},
   "outputs": [],
   "source": [
    "ticker = \"AAPL\""
   ]
  },
  {
   "cell_type": "code",
   "execution_count": null,
   "id": "e9068a1b",
   "metadata": {},
   "outputs": [],
   "source": [
    "convert a "
   ]
  }
 ],
 "metadata": {
  "language_info": {
   "name": "python"
  }
 },
 "nbformat": 4,
 "nbformat_minor": 5
}
